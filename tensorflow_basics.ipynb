{
 "cells": [
  {
   "cell_type": "markdown",
   "metadata": {},
   "source": [
    "# Tensorflow Basics"
   ]
  },
  {
   "cell_type": "code",
   "execution_count": 1,
   "metadata": {},
   "outputs": [
    {
     "name": "stdout",
     "output_type": "stream",
     "text": [
      "TensorFlow Version:2.5.0 \n",
      "Automatically created module for IPython interactive environment\n"
     ]
    }
   ],
   "source": [
    "import tensorflow as tf\n",
    "print(\"TensorFlow Version:{} \".format(tf.__version__))\n",
    "print(__doc__)"
   ]
  },
  {
   "cell_type": "markdown",
   "metadata": {},
   "source": [
    "__Tensoren verallgemeinern__ Skalare, Vektoren und Matrizen in höheren Dimensionen."
   ]
  },
  {
   "cell_type": "code",
   "execution_count": 2,
   "metadata": {},
   "outputs": [
    {
     "name": "stdout",
     "output_type": "stream",
     "text": [
      "tf.Tensor(5, shape=(), dtype=int32)\n",
      "tf.Tensor([2 3], shape=(2,), dtype=int32)\n",
      "tf.Tensor(\n",
      "[[1 2]\n",
      " [3 4]], shape=(2, 2), dtype=int32)\n",
      "tf.Tensor(\n",
      "[[1 2 3]\n",
      " [3 4 5]\n",
      " [6 7 8]], shape=(3, 3), dtype=int32)\n",
      "tf.Tensor(\n",
      "[[[1 4]\n",
      "  [5 2]]\n",
      "\n",
      " [[3 5]\n",
      "  [9 8]]], shape=(2, 2, 2), dtype=int32)\n"
     ]
    }
   ],
   "source": [
    "# Skalar\n",
    "print(tf.constant(5)) \n",
    "# Vektor\n",
    "print(tf.constant([2,3])) \n",
    "# Matrix 2x2\n",
    "print(tf.constant([[1,2],\n",
    "                   [3,4]]))\n",
    "# Matrix 3x3\n",
    "print(tf.constant([[1,2,3],\n",
    "                   [3,4,5],\n",
    "                   [6,7,8]]))\n",
    "# 3D-Tensor\n",
    "print(tf.constant([[[1,4],[5,2]],\n",
    "                   [[3,5],[9,8]]]))"
   ]
  },
  {
   "cell_type": "markdown",
   "metadata": {},
   "source": [
    "__Tensorflow-Tensoren__ die schnelleren Numpy-Arrays"
   ]
  },
  {
   "cell_type": "code",
   "execution_count": 3,
   "metadata": {},
   "outputs": [
    {
     "name": "stdout",
     "output_type": "stream",
     "text": [
      "[1 2 3]\n",
      "tf.Tensor([1 2 3], shape=(3,), dtype=int32)\n",
      "<tf.Variable 'Variable:0' shape=(3,) dtype=int32, numpy=array([1, 2, 3])>\n",
      "<tf.Variable 'Variable:0' shape=(3,) dtype=int32, numpy=array([4, 5, 6])>\n",
      "tf.Tensor([4. 5. 6.], shape=(3,), dtype=float64)\n"
     ]
    }
   ],
   "source": [
    "import numpy as np\n",
    "\n",
    "# numpy array\n",
    "a = np.array([1,2,3])\n",
    "print(a)\n",
    "\n",
    "# konstanter Tensor \n",
    "tc = tf.constant([1,2,3])\n",
    "print(tc)\n",
    "\n",
    "# änderbarer Tensor\n",
    "tm = tf.Variable([1,2,3])\n",
    "print(tm)\n",
    "\n",
    "# ändern mit assign\n",
    "tm.assign([4,5,6])\n",
    "print(tm)\n",
    "\n",
    "#internen Typ ändern, Achtung danach ist tm ein konstanter Tensor\n",
    "tm = tf.cast(tm, tf.float64) \n",
    "print(tm)\n",
    "\n"
   ]
  },
  {
   "cell_type": "markdown",
   "metadata": {},
   "source": [
    "Änderbare Tensoren besitzen ähnliche API wie Numpy-Arrays. "
   ]
  },
  {
   "cell_type": "code",
   "execution_count": 4,
   "metadata": {},
   "outputs": [
    {
     "name": "stdout",
     "output_type": "stream",
     "text": [
      "Tensor t =  tf.Tensor([0.2936554  0.1363082  0.11058331], shape=(3,), dtype=float32)\n",
      "x =  tf.Tensor(\n",
      "[[0.2936554 ]\n",
      " [0.1363082 ]\n",
      " [0.11058331]], shape=(3, 1), dtype=float32)\n",
      "y =  tf.Tensor([[0.2936554  0.1363082  0.11058331]], shape=(1, 3), dtype=float32)\n"
     ]
    }
   ],
   "source": [
    "t = tf.random.uniform([3])\n",
    "print(\"Tensor t = \",t)\n",
    "\n",
    "# als Spaltenvektor \n",
    "x = t[:, tf.newaxis]\n",
    "print(\"x = \",x)\n",
    "\n",
    "# als Zeilenvektor\n",
    "y = t[tf.newaxis, :]\n",
    "print(\"y = \",y)\n"
   ]
  },
  {
   "cell_type": "markdown",
   "metadata": {},
   "source": [
    "## Konvertieren von Numpy-Arrays und Tensoren"
   ]
  },
  {
   "cell_type": "code",
   "execution_count": 5,
   "metadata": {},
   "outputs": [
    {
     "data": {
      "text/plain": [
       "<tf.Tensor: shape=(224, 224, 3), dtype=int32, numpy=\n",
       "array([[[134, 132, 119],\n",
       "        [135, 133, 120],\n",
       "        [136, 134, 121],\n",
       "        ...,\n",
       "        [119, 116, 101],\n",
       "        [116, 113,  98],\n",
       "        [114, 111,  96]],\n",
       "\n",
       "       [[136, 134, 121],\n",
       "        [136, 134, 121],\n",
       "        [137, 135, 122],\n",
       "        ...,\n",
       "        [120, 117, 102],\n",
       "        [117, 114,  99],\n",
       "        [116, 113,  98]],\n",
       "\n",
       "       [[137, 135, 122],\n",
       "        [138, 136, 123],\n",
       "        [138, 136, 123],\n",
       "        ...,\n",
       "        [121, 118, 103],\n",
       "        [119, 116, 101],\n",
       "        [117, 114,  99]],\n",
       "\n",
       "       ...,\n",
       "\n",
       "       [[196, 180, 155],\n",
       "        [198, 182, 157],\n",
       "        [201, 184, 164],\n",
       "        ...,\n",
       "        [111,  95,  72],\n",
       "        [115,  97,  75],\n",
       "        [118, 100,  76]],\n",
       "\n",
       "       [[197, 181, 156],\n",
       "        [199, 183, 158],\n",
       "        [200, 183, 163],\n",
       "        ...,\n",
       "        [109,  94,  73],\n",
       "        [109,  92,  72],\n",
       "        [109,  93,  70]],\n",
       "\n",
       "       [[198, 182, 157],\n",
       "        [199, 183, 158],\n",
       "        [200, 183, 163],\n",
       "        ...,\n",
       "        [108,  93,  72],\n",
       "        [108,  91,  71],\n",
       "        [107,  90,  70]]])>"
      ]
     },
     "execution_count": 5,
     "metadata": {},
     "output_type": "execute_result"
    }
   ],
   "source": [
    "from PIL import Image\n",
    "\n",
    "# Bild öffnen, img ist ein numpy array \n",
    "img = Image.open(\"cat.jpg\")\n",
    "# Konvertierung in NumPy-Array\n",
    "img_data = np.asarray( img, dtype=\"int32\" )\n",
    "# Konvertierung in einen Tensor\n",
    "img_tensor = tf.convert_to_tensor(img_data, dtype=tf.int32)\n",
    "img_tensor\n"
   ]
  },
  {
   "cell_type": "code",
   "execution_count": 6,
   "metadata": {},
   "outputs": [
    {
     "name": "stdout",
     "output_type": "stream",
     "text": [
      "tf.Tensor(3, shape=(), dtype=int32)\n",
      "tf.Tensor([224 224   3], shape=(3,), dtype=int32)\n"
     ]
    }
   ],
   "source": [
    "# mit Tensorflow Bild einlesen und in numpy array umwandeln\n",
    "img = tf.image.decode_jpeg(tf.io.read_file(\"cat.jpg\"))\n",
    "\n",
    "print(tf.rank(img))\n",
    "print(tf.shape(img))\n"
   ]
  },
  {
   "cell_type": "markdown",
   "metadata": {},
   "source": [
    "## Tensor-Operationen"
   ]
  },
  {
   "cell_type": "code",
   "execution_count": 7,
   "metadata": {},
   "outputs": [
    {
     "name": "stdout",
     "output_type": "stream",
     "text": [
      "tf.Tensor(\n",
      "[[[1. 1. 1.]\n",
      "  [1. 1. 1.]]], shape=(1, 2, 3), dtype=float32)\n",
      "tf.Tensor(\n",
      "[[[0. 0. 0.]\n",
      "  [0. 0. 0.]]], shape=(1, 2, 3), dtype=float32)\n",
      "tf.Tensor(\n",
      "[[1. 0. 0.]\n",
      " [0. 1. 0.]\n",
      " [0. 0. 1.]], shape=(3, 3), dtype=float32)\n"
     ]
    }
   ],
   "source": [
    "import tensorflow as tf\n",
    "print(tf.ones((1, 2, 3)))\n",
    "print(tf.zeros((1, 2, 3)))\n",
    "print(tf.eye(3))\n"
   ]
  },
  {
   "cell_type": "code",
   "execution_count": 8,
   "metadata": {},
   "outputs": [
    {
     "name": "stdout",
     "output_type": "stream",
     "text": [
      "(1, 2)\n",
      "2\n",
      "tf.Tensor([1. 1.], shape=(2,), dtype=float32)\n",
      "tf.Tensor(2, shape=(), dtype=int32)\n",
      "<dtype: 'float32'>\n",
      "2\n"
     ]
    }
   ],
   "source": [
    "tensor = tf.ones((1, 2))\n",
    "print(tensor.shape)\n",
    "print(tensor.ndim)\n",
    "print(tensor[0])\n",
    "print(tf.size(tensor))\n",
    "print(tensor.dtype)\n",
    "print(tensor.shape[-1])\n"
   ]
  },
  {
   "cell_type": "code",
   "execution_count": 9,
   "metadata": {},
   "outputs": [
    {
     "name": "stdout",
     "output_type": "stream",
     "text": [
      "tf.Tensor(\n",
      "[[ 7 10]\n",
      " [15 22]], shape=(2, 2), dtype=int32)\n",
      "tf.Tensor(\n",
      "[[ 7 10]\n",
      " [15 22]], shape=(2, 2), dtype=int32)\n",
      "tf.Tensor(\n",
      "[[1 3]\n",
      " [2 4]], shape=(2, 2), dtype=int32)\n",
      "tf.Tensor([[1 2 3 4]], shape=(1, 4), dtype=int32)\n"
     ]
    }
   ],
   "source": [
    "import tensorflow as tf\n",
    "a = tf.constant([1, 2, 3, 4],\n",
    "shape=(2, 2))\n",
    "b = tf.constant([1, 2, 3, 4],\n",
    "shape=(2, 2))\n",
    "print(a @ b)\n",
    "print(tf.matmul(a, b))\n",
    "print(tf.transpose(a))\n",
    "print(tf.reshape(a, shape=(1,4)))"
   ]
  },
  {
   "cell_type": "code",
   "execution_count": 10,
   "metadata": {},
   "outputs": [
    {
     "name": "stdout",
     "output_type": "stream",
     "text": [
      "tf.Tensor(\n",
      "[[0.09003057 0.24472848 0.66524094]\n",
      " [0.09003057 0.24472848 0.66524094]], shape=(2, 3), dtype=float32)\n",
      "tf.Tensor(\n",
      "[[1. 2. 3.]\n",
      " [4. 5. 6.]\n",
      " [1. 2. 3.]\n",
      " [4. 5. 6.]\n",
      " [1. 2. 3.]\n",
      " [4. 5. 6.]], shape=(6, 3), dtype=float32)\n",
      "tf.Tensor(21.0, shape=(), dtype=float32)\n"
     ]
    }
   ],
   "source": [
    "x = tf.constant([[1., 2., 3.],\n",
    "                 [4., 5., 6.]])\n",
    "            \n",
    "# softmax Funktion normiert Tensoren \n",
    "print(tf.nn.softmax(x, axis=-1))\n",
    "print(tf.concat([x, x, x], axis=0))\n",
    "print(tf.reduce_sum(x))"
   ]
  },
  {
   "cell_type": "markdown",
   "metadata": {},
   "source": [
    "Falls __GPU-Unterstützung__ vorhanden, kann Tensorflow diese verwenden."
   ]
  },
  {
   "cell_type": "code",
   "execution_count": 11,
   "metadata": {},
   "outputs": [
    {
     "name": "stdout",
     "output_type": "stream",
     "text": [
      "TensorFlow **IS NOT** using the GPU\n"
     ]
    }
   ],
   "source": [
    "if tf.config.list_physical_devices('GPU'):\n",
    "  print(\"TensorFlow **IS** using the GPU\")\n",
    "else:\n",
    "  print(\"TensorFlow **IS NOT** using the GPU\")"
   ]
  }
 ],
 "metadata": {
  "kernelspec": {
   "display_name": "Python 3 (ipykernel)",
   "language": "python",
   "name": "python3"
  },
  "language_info": {
   "codemirror_mode": {
    "name": "ipython",
    "version": 3
   },
   "file_extension": ".py",
   "mimetype": "text/x-python",
   "name": "python",
   "nbconvert_exporter": "python",
   "pygments_lexer": "ipython3",
   "version": "3.9.12"
  },
  "vscode": {
   "interpreter": {
    "hash": "30d453d1063587679cb9ea756948dfdffb15ba9c7658ece4abaa6ce81067b233"
   }
  }
 },
 "nbformat": 4,
 "nbformat_minor": 2
}
