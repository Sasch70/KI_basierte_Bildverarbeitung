{
 "cells": [
  {
   "cell_type": "markdown",
   "metadata": {},
   "source": [
    "### Training Iris-Klassifikation\n",
    "Demonstriert Implementation von Backpropagation ohne Framework"
   ]
  },
  {
   "cell_type": "code",
   "execution_count": 50,
   "metadata": {},
   "outputs": [],
   "source": [
    "# from https://www.askpython.com/python/examples/backpropagation-in-python\n",
    "import numpy as np\n",
    "import pandas as pd\n",
    "from sklearn.datasets import load_iris\n",
    "from sklearn.model_selection import train_test_split\n",
    "import matplotlib.pyplot as plt"
   ]
  },
  {
   "cell_type": "markdown",
   "metadata": {},
   "source": [
    "### Trainingsdaten vorbereiten \n",
    "Sklearn bietet eine Funktion zum Splitten der Daten in Trainings-, Validation- und Testdatenmenge. Ebenso kann man den Iris-Datensatz bequem einladen."
   ]
  },
  {
   "cell_type": "code",
   "execution_count": 51,
   "metadata": {},
   "outputs": [],
   "source": [
    "iris = load_iris()\n",
    "\n",
    "# split Dataset in Training and Testing, parameters: the features (input), target, and size of the test set.\n",
    "X_train, X_test, y_train_classes, y_test_classes = train_test_split(iris.data, iris.target, test_size=20, random_state=4)# Loading dataset\n"
   ]
  },
  {
   "cell_type": "code",
   "execution_count": 52,
   "metadata": {},
   "outputs": [
    {
     "name": "stdout",
     "output_type": "stream",
     "text": [
      "Merkmale:  ['sepal length (cm)', 'sepal width (cm)', 'petal length (cm)', 'petal width (cm)']\n",
      "Number of flowers: 150\n",
      "Klassennamen:  ['setosa' 'versicolor' 'virginica']\n",
      "Labels:  [0 0 0 0 0 0 0 0 0 0 0 0 0 0 0 0 0 0 0 0 0 0 0 0 0 0 0 0 0 0 0 0 0 0 0 0 0\n",
      " 0 0 0 0 0 0 0 0 0 0 0 0 0 1 1 1 1 1 1 1 1 1 1 1 1 1 1 1 1 1 1 1 1 1 1 1 1\n",
      " 1 1 1 1 1 1 1 1 1 1 1 1 1 1 1 1 1 1 1 1 1 1 1 1 1 1 2 2 2 2 2 2 2 2 2 2 2\n",
      " 2 2 2 2 2 2 2 2 2 2 2 2 2 2 2 2 2 2 2 2 2 2 2 2 2 2 2 2 2 2 2 2 2 2 2 2 2\n",
      " 2 2]\n"
     ]
    }
   ],
   "source": [
    "print(\"Merkmale: \",iris.feature_names)\n",
    "print(\"Number of flowers:\",iris.target.size)\n",
    "\n",
    "# Kodierschema 0 = setosa, 1 = versicolor, 2 = virginica\n",
    "print(\"Klassennamen: \",iris.target_names)\n",
    "# 0, 1, und 2 repäsentieren die unterschiedlichen Spezies\n",
    "print(\"Labels: \",iris.target)"
   ]
  },
  {
   "cell_type": "markdown",
   "metadata": {},
   "source": [
    "__Umformatieren__ der Ausgabedaten für One-Hot-Encoding"
   ]
  },
  {
   "cell_type": "code",
   "execution_count": 53,
   "metadata": {},
   "outputs": [
    {
     "name": "stdout",
     "output_type": "stream",
     "text": [
      "[[0 0 1]\n",
      " [0 1 0]\n",
      " [1 0 0]\n",
      " [1 0 0]\n",
      " [1 0 0]\n",
      " [1 0 0]\n",
      " [1 0 0]\n",
      " [1 0 0]\n",
      " [0 0 1]]\n"
     ]
    }
   ],
   "source": [
    "y_train_list=[]\n",
    "for t in y_train_classes:\n",
    "    if t==2:\n",
    "        y_train_list+=[[0,0,1]]\n",
    "    if t==1:\n",
    "        y_train_list+=[[0,1,0]]\n",
    "    if t==0:\n",
    "        y_train_list+=[[1,0,0]]\n",
    "\n",
    "y_train=np.array(y_train_list)\n",
    "N = y_train.size\n",
    "\n",
    "y_test_list=[]\n",
    "for t in y_test_classes:\n",
    "    if t==2:\n",
    "        y_test_list+=[[0,0,1]]\n",
    "    if t==1:\n",
    "        y_test_list+=[[0,1,0]]\n",
    "    if t==0:\n",
    "        y_test_list+=[[1,0,0]]\n",
    "\n",
    "y_test=np.array(y_test_list)\n",
    "\n",
    "print(y_train[1:10])"
   ]
  },
  {
   "cell_type": "markdown",
   "metadata": {},
   "source": [
    "### Neuronales Netz erstellen"
   ]
  },
  {
   "cell_type": "code",
   "execution_count": 54,
   "metadata": {},
   "outputs": [],
   "source": [
    "# Hyperparameters\n",
    "learning_rate = 0.1\n",
    "iterations = 5000\n",
    " \n",
    "input_size = 4\n",
    "hidden_size = 2\n",
    "output_size = 3 \n",
    "\n",
    "# Output data \n",
    "results = pd.DataFrame(columns=[\"mse\", \"accuracy\"])"
   ]
  },
  {
   "cell_type": "code",
   "execution_count": 55,
   "metadata": {},
   "outputs": [],
   "source": [
    "# Zufällige Gewichte\n",
    "np.random.seed(10)\n",
    " \n",
    "# Hidden layer\n",
    "W1 = np.random.normal(scale=0.5, size=(input_size, hidden_size))   \n",
    " \n",
    "# Output layer\n",
    "W2 = np.random.normal(scale=0.5, size=(hidden_size , output_size)) \n"
   ]
  },
  {
   "cell_type": "code",
   "execution_count": 56,
   "metadata": {},
   "outputs": [],
   "source": [
    "def sigmoid(x):\n",
    "    return 1 / (1 + np.exp(-x))\n",
    " \n",
    " # Loss\n",
    "def mean_squared_error(y_pred, y_true):\n",
    "    return ((y_pred - y_true)**2).sum() / (2*y_pred.size)\n",
    "    \n",
    "# True-Positiv?\n",
    "def accuracy(y_pred, y_true):\n",
    "    acc = y_pred.argmax(axis=1) == y_true.argmax(axis=1)\n",
    "    return acc.mean()"
   ]
  },
  {
   "cell_type": "markdown",
   "metadata": {},
   "source": [
    "### Training"
   ]
  },
  {
   "cell_type": "code",
   "execution_count": 63,
   "metadata": {},
   "outputs": [
    {
     "data": {
      "text/plain": [
       "0.9153846153846154"
      ]
     },
     "execution_count": 63,
     "metadata": {},
     "output_type": "execute_result"
    }
   ],
   "source": [
    "rows=[]\n",
    "for itr in range(iterations):    \n",
    "     \n",
    "    # Implementing feedforward propagation on hidden layer\n",
    "    net1 = np.dot(X_train, W1)\n",
    "    h1 = sigmoid(net1)\n",
    " \n",
    "    # Implementing feed forward propagation on output layer\n",
    "    net2 = np.dot(h1, W2)\n",
    "    y = sigmoid(net2)\n",
    "         \n",
    "    # Calculating the error\n",
    "    mse = mean_squared_error(y, y_train)\n",
    "    acc = accuracy(y, y_train)\n",
    "    rows.append({\"mse\":mse, \"accuracy\":acc})\n",
    "     \n",
    "    # Backpropagation phase\n",
    "    E2 = y - y_train\n",
    "    dW2 = E2 * y * (1 - y)\n",
    "    W2_update = np.dot(h1.T, dW2) / N\n",
    "    W2 = W2 - learning_rate * W2_update\n",
    " \n",
    "    E1 = np.dot(dW2, W2.T)\n",
    "    dW1 = E1 * h1 * (1 - h1)\n",
    "    W1_update = np.dot(X_train.T, dW1) / N\n",
    "    W1 = W1 - learning_rate * W1_update\n",
    "\n",
    "acc"
   ]
  },
  {
   "cell_type": "markdown",
   "metadata": {},
   "source": [
    "### Ergebnisse"
   ]
  },
  {
   "cell_type": "code",
   "execution_count": 64,
   "metadata": {},
   "outputs": [
    {
     "data": {
      "text/plain": [
       "<AxesSubplot:title={'center':'Accuracy'}>"
      ]
     },
     "execution_count": 64,
     "metadata": {},
     "output_type": "execute_result"
    },
    {
     "data": {
      "image/png": "[encoded data removed]",
      "text/plain": [
       "<Figure size 432x288 with 1 Axes>"
      ]
     },
     "metadata": {
      "needs_background": "light"
     },
     "output_type": "display_data"
    }
   ],
   "source": [
    "results = pd.concat([results, pd.DataFrame(rows)], axis=0, ignore_index=True)\n",
    "\n",
    "# show error curve\n",
    "results.mse.plot(title=\"Mean Squared Error\")\n",
    "\n",
    "# show accuracy curve\n",
    "results.accuracy.plot(title=\"Accuracy\")"
   ]
  },
  {
   "cell_type": "code",
   "execution_count": 66,
   "metadata": {},
   "outputs": [
    {
     "name": "stdout",
     "output_type": "stream",
     "text": [
      "Accuracy: 0.9\n"
     ]
    }
   ],
   "source": [
    "# calculate the accuracy of the model\n",
    "net1 = np.dot(X_test, W1)\n",
    "h1 = sigmoid(net1)\n",
    " \n",
    "net2 = np.dot(h1, W2)\n",
    "y = sigmoid(net2)\n",
    " \n",
    "acc = accuracy(y, y_test)\n",
    "print(\"Accuracy: {}\".format(acc))"
   ]
  }
 ],
 "metadata": {
  "kernelspec": {
   "display_name": "Python 3.9.12 ('tensorflow')",
   "language": "python",
   "name": "python3"
  },
  "language_info": {
   "codemirror_mode": {
    "name": "ipython",
    "version": 3
   },
   "file_extension": ".py",
   "mimetype": "text/x-python",
   "name": "python",
   "nbconvert_exporter": "python",
   "pygments_lexer": "ipython3",
   "version": "3.9.12"
  },
  "orig_nbformat": 4,
  "vscode": {
   "interpreter": {
    "hash": "30d453d1063587679cb9ea756948dfdffb15ba9c7658ece4abaa6ce81067b233"
   }
  }
 },
 "nbformat": 4,
 "nbformat_minor": 2
}
