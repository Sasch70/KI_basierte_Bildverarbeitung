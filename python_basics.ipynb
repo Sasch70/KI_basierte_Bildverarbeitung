{
 "cells": [
  {
   "cell_type": "markdown",
   "id": "4e145169",
   "metadata": {},
   "source": [
    "# Python Basics"
   ]
  },
  {
   "cell_type": "code",
   "execution_count": null,
   "id": "c97de7d2",
   "metadata": {},
   "outputs": [],
   "source": [
    "# scalar\n",
    "a = 2\n",
    "print(type(a))\n",
    "\n",
    "# tuple\n",
    "b = (2,)\n",
    "print(type(b))\n",
    "\n",
    "# list\n",
    "c = [2]\n",
    "print(type(c))\n",
    "\n",
    "#dict\n",
    "d = dict()\n",
    "print(type(d))"
   ]
  },
  {
   "cell_type": "markdown",
   "id": "9bcadd3b",
   "metadata": {},
   "source": [
    "## Listen"
   ]
  },
  {
   "cell_type": "code",
   "execution_count": null,
   "id": "a69846ab",
   "metadata": {},
   "outputs": [],
   "source": [
    "a = ['Car', 'Dog', 'Cat', 'Tower',\"Plane\"]\n",
    "b = ['Dog','Car', 'Cat', 'Tower',\"Plane\"] # Dog und Car sind vertauscht\n",
    "# Vergleich von Listen\n",
    "print(a == b) \n",
    "\n",
    "# Zugriff auf 2-te Element (0 basiert wie in C++)\n",
    "print(a[1])\n",
    "\n",
    "# Zugriff auf vorletztes Element\n",
    "print(a[-2])\n",
    "\n",
    "# Liste umkehren\n",
    "a.reverse()\n",
    "print(a)\n",
    "\n",
    "# Liste sortieren\n",
    "a.sort()\n",
    "print(a)\n",
    "\n",
    "# Iteriere über Liste\n",
    "for e in a:\n",
    "    print(e)\n",
    "\n"
   ]
  },
  {
   "cell_type": "markdown",
   "id": "227bd832",
   "metadata": {},
   "source": [
    "### Slicing \n",
    "Bereich aus Liste ausschneiden: __Lst[ Initial : End : IndexJump ]__"
   ]
  },
  {
   "cell_type": "code",
   "execution_count": null,
   "id": "49c9b17e",
   "metadata": {},
   "outputs": [],
   "source": [
    "l = ['Car', 'Dog', 'Cat', 'Tower',\"Plane\"]\n",
    "animals = l[1:3]\n",
    "print(animals)\n",
    "\n",
    "everysecond = l[::2]\n",
    "print(everysecond)\n"
   ]
  },
  {
   "cell_type": "markdown",
   "id": "15c997d0",
   "metadata": {},
   "source": [
    "### Matrizen\n",
    "Matrizen sind Listen aus Listen, d.h. eine Liste von Zeilenvektoren"
   ]
  },
  {
   "cell_type": "code",
   "execution_count": null,
   "id": "33f6d7b7",
   "metadata": {},
   "outputs": [],
   "source": [
    "# 2x3 Matrizen (2 Zeilen und 3 Spalten)\n",
    "m = [[1,2,3],[4,5,6]]\n",
    "print(m)\n",
    "\n",
    "print(\"2. Element der 2. Spalte = \",m[1][1])\n",
    "print(\"Letzte Element der 1. Spalte = \",m[0][-1])\n",
    "\n",
    "# Zeilenvektor anhängen\n",
    "m.append([7,8,9])\n",
    "print(m)\n",
    "\n"
   ]
  },
  {
   "cell_type": "markdown",
   "id": "e26179bc",
   "metadata": {},
   "source": [
    "### NumPy\n",
    "Ist eine numerische Bibliothek."
   ]
  },
  {
   "cell_type": "code",
   "execution_count": null,
   "id": "6906f10d",
   "metadata": {},
   "outputs": [],
   "source": [
    "import numpy as np\n",
    "\n",
    "# einfache Liste\n",
    "a = np.array([1,2,3])\n",
    "print(a)\n",
    "print(type(a))\n",
    "\n",
    "# Matrix\n",
    "A = np.array(m)\n",
    "print(A)\n",
    "\n",
    "# 2. Zeile ausgeben\n",
    "print(\"2. Zeile \",A[1])\n",
    "print(\"2. Spalte \", A[:,1])\n",
    "print(\"Letzte Spalte \", A[:,-1])\n",
    "\n",
    "# mit Typangabe\n",
    "A = np.array([[1, 2, 3], [3, 4, 5]], dtype = complex) # Array von komplexen Zahlen\n",
    "print(A)\n",
    "\n",
    "# 2x3 Matrix mit Nullen erzeugen\n",
    "zeros = np.zeros( (2,3))\n",
    "print(zeros)"
   ]
  },
  {
   "cell_type": "markdown",
   "id": "1dbf6bf8",
   "metadata": {},
   "source": [
    "Mit __np.arrange__ kann man n-stellige Vektoren erzeugen, mit __np.reshape__ diesen Vektor umformatieren, z.B. in eine Matrix"
   ]
  },
  {
   "cell_type": "code",
   "execution_count": null,
   "id": "bc99dfe1",
   "metadata": {},
   "outputs": [],
   "source": [
    "A = np.arange(12)\n",
    "print(A)\n",
    "\n",
    "B = A.reshape(4,3)\n",
    "print(B)\n",
    "\n"
   ]
  },
  {
   "cell_type": "markdown",
   "id": "b9ba7587",
   "metadata": {},
   "source": [
    "Im Gegensatz zur normalen Python-Liste hat man nun auch __Matrixaddition__ und __Matrixmultiplikation__ (Befehl dot)."
   ]
  },
  {
   "cell_type": "code",
   "execution_count": null,
   "id": "920154d0",
   "metadata": {},
   "outputs": [],
   "source": [
    "A = np.array([[2, 4], [5, -6]])\n",
    "B = np.array([[9, -3], [3, 6]])\n",
    "C = A + B      # elementweise Addition\n",
    "print(C)"
   ]
  },
  {
   "cell_type": "code",
   "execution_count": null,
   "id": "66a66501",
   "metadata": {},
   "outputs": [],
   "source": [
    "# 2x3 mit 3x2 Matrix multiplizieren\n",
    "A = np.array([[3, 6, 7], [5, -3, 0]])\n",
    "B = np.array([[1, 1], [2, 1], [3, -3]])\n",
    "C = A.dot(B) \n",
    "print(C)\n",
    "\n",
    "# Matrixmultiplikation\n",
    "print(np.matmul(A,B))\n",
    "\n",
    "# Kurzschreibweise für Matrixmulitplikation\n",
    "print(A@B)\n",
    "\n",
    "# Matrix-Vektor-Multiplikation\n",
    "D = np.array([2,3,1])\n",
    "E = A.dot(D)\n",
    "print(\"E = \",E)\n",
    "\n",
    "# Transponieren\n",
    "print(\"B transponiert:\\n\",B.transpose())"
   ]
  },
  {
   "cell_type": "code",
   "execution_count": null,
   "id": "b2934216",
   "metadata": {},
   "outputs": [],
   "source": [
    "# Skalarprodukt zweier Vektoren\n",
    "A = np.array([1, 2, 3])\n",
    "B = np.array([4, 5, 2])\n",
    "C = A.dot(B)\n",
    "C"
   ]
  },
  {
   "cell_type": "code",
   "execution_count": null,
   "id": "a1d2d127",
   "metadata": {},
   "outputs": [],
   "source": [
    "# Kreuzprodukt zweier Vektoren\n",
    "C = np.cross(A,B)\n",
    "C"
   ]
  },
  {
   "cell_type": "markdown",
   "id": "46c5972b",
   "metadata": {},
   "source": [
    "In Numpy kann man __Slicing von Matrizen__ durchführen."
   ]
  },
  {
   "cell_type": "code",
   "execution_count": null,
   "id": "54ea6828",
   "metadata": {},
   "outputs": [],
   "source": [
    "A = np.array([[ 1, 4,  5, 12, 14], \n",
    "              [-5, 8,  9,  0, 17],\n",
    "              [-6, 7, 11, 19, 21]])\n",
    "\n",
    "# 2 Zeilen 4 Spalten\n",
    "print(A[:2,:4])\n",
    "\n",
    "# alle Zeilen 2. Spalte\n",
    "print(A[:,2]) \n"
   ]
  },
  {
   "cell_type": "code",
   "execution_count": null,
   "id": "86c088c2",
   "metadata": {},
   "outputs": [],
   "source": [
    "t = (2,4,3)\n",
    "print(t)\n",
    "\n",
    "# Tupel in List umwandeln\n",
    "l = list(t)\n",
    "l"
   ]
  },
  {
   "cell_type": "code",
   "execution_count": null,
   "id": "510d1c20",
   "metadata": {},
   "outputs": [],
   "source": [
    "data=np.array([[1, 2, 3],[4, 5, 6],[7, 8, 9]])\n",
    "y,x=np.where(((data>=5) & (data<=7)) | (data==1))\n",
    "data[y,x] \n"
   ]
  },
  {
   "cell_type": "markdown",
   "id": "dd2a5d4e",
   "metadata": {},
   "source": [
    "### Matplotlib"
   ]
  },
  {
   "cell_type": "markdown",
   "id": "2c343ae4",
   "metadata": {},
   "source": [
    "Daten als Diagramm __plotten__."
   ]
  },
  {
   "cell_type": "code",
   "execution_count": null,
   "id": "51933965",
   "metadata": {},
   "outputs": [],
   "source": [
    "import numpy as np\n",
    "import matplotlib.pyplot as plt\n",
    "\n",
    "t=np.linspace(0,1,500)\n",
    "y=np.sin(2*np.pi*10*t)\n",
    "\n",
    "plt.plot(t,y,'og-')\n",
    "plt.xlabel(\"Zeit\")\n",
    "plt.ylabel(\"Wert\")\n",
    "plt.title(\"Diagramm Beispiel\")\n",
    "plt.axis([0, 0.5, -1, 2])\n"
   ]
  },
  {
   "cell_type": "markdown",
   "id": "67207f8f",
   "metadata": {},
   "source": [
    "Array als Bild mit __Matplot.imshow__ anzeigen"
   ]
  },
  {
   "cell_type": "code",
   "execution_count": null,
   "id": "f451e0fd",
   "metadata": {},
   "outputs": [],
   "source": [
    "img=np.zeros((100,100))\n",
    "for y in range(0,100):\n",
    "\tfor x in range(0,100):\n",
    "\t\timg[y,x]=np.sin(x*y*0.01)\n",
    "plt.imshow(img)"
   ]
  },
  {
   "cell_type": "markdown",
   "id": "7d598c3c",
   "metadata": {},
   "source": [
    "### Arrays-Manipulationen\n",
    "Kommt bei KI-basierter Bildverarbeitung häufig vor."
   ]
  },
  {
   "cell_type": "code",
   "execution_count": null,
   "id": "09c3807a",
   "metadata": {},
   "outputs": [],
   "source": [
    "a=np.linspace(0,256,256) #a=0..255 (256 Werte)\n",
    "b=a.reshape((16,16)) #b=16x16 2D-Bild\n",
    "plt.imshow(b)\n"
   ]
  },
  {
   "cell_type": "code",
   "execution_count": null,
   "id": "472294c9",
   "metadata": {},
   "outputs": [],
   "source": [
    "a = b.flatten()  # wieder zurück zum 1D Array \n",
    "print(a[:10])  # truncated   "
   ]
  },
  {
   "cell_type": "code",
   "execution_count": null,
   "id": "64996a90",
   "metadata": {},
   "outputs": [],
   "source": [
    "from numpy import dtype\n",
    "\n",
    "A = np.array([2,0,1,8])\n",
    "print(A.shape)\n",
    "\n",
    "# Szenario 1: Umwandlung Array als Zeilen- oder Spaltenvektor\n",
    "print(A[np.newaxis,:]) # als Zeilenvektor\n",
    "print(A[:,np.newaxis]) # als Spaltenvektor\n",
    "\n",
    "# Szenario 2: Broadcasting Arrays\n",
    "x1 = np.array([1, 2, 3, 4, 5])\n",
    "x2 = np.array([5, 4, 3])\n",
    "x1_new = x1[:,np.newaxis] # schafft Platz\n",
    "print(x1_new+x2)\n"
   ]
  },
  {
   "cell_type": "markdown",
   "id": "a50966f4",
   "metadata": {},
   "source": [
    "__Broadcasting:__ Kleineres Array wird auf größeres verteilt (\"broadcast\")"
   ]
  },
  {
   "cell_type": "code",
   "execution_count": null,
   "id": "17a48f56",
   "metadata": {},
   "outputs": [],
   "source": [
    "# Äußere Addition\n",
    "a = np.array([0.0, 10.0, 20.0, 30.0])\n",
    "b = np.array([1.0, 2.0, 3.0])\n",
    "a[:, np.newaxis] + b"
   ]
  },
  {
   "cell_type": "code",
   "execution_count": null,
   "id": "771b0441",
   "metadata": {},
   "outputs": [],
   "source": [
    "# Äußeres Produkt (Kreuzprodukt)\n",
    "a = np.array([0.0, 10.0, 20.0, 30.0])\n",
    "b = np.array([1.0, 2.0, 3.0])\n",
    "a[:, np.newaxis] * b\n"
   ]
  },
  {
   "cell_type": "markdown",
   "id": "c326b5b8",
   "metadata": {},
   "source": [
    "### Nützliches"
   ]
  },
  {
   "cell_type": "code",
   "execution_count": null,
   "id": "692bdcab",
   "metadata": {},
   "outputs": [],
   "source": [
    "import os\n",
    "print(\"Hello\",\"how are you?\")\n",
    "print('Hello', 'world', sep=' ') # mit Trennzeichen\n",
    "print('Hello, ' + os.getlogin() + '! How are you?')\n",
    "print(f'Hello, {os.getlogin()}! How are you?') # f-strings\n",
    "print('My name is', os.getlogin(), 'and I am', 42)  \n",
    "print(\"Geeks : %2d, Portal : %5.2f\" % (1, 05.333))  # Vor- und Nachkommastellen\n",
    "print(\"%7.3o\" % (25))  # als Oktalzahl\n",
    "print(\"%10.3E\" % (356.08977))  # Exponentenschreibweise\n",
    "print('I love {} for \"{}!\"'.format('Geeks', 'Geeks'))\n",
    "print(\"Geeks: {a:5d},  Portal: {p:8.2f}\".format(a = 453, p = 59.058))\n"
   ]
  }
 ],
 "metadata": {
  "kernelspec": {
   "display_name": "Python 3 (ipykernel)",
   "language": "python",
   "name": "python3"
  },
  "language_info": {
   "codemirror_mode": {
    "name": "ipython",
    "version": 3
   },
   "file_extension": ".py",
   "mimetype": "text/x-python",
   "name": "python",
   "nbconvert_exporter": "python",
   "pygments_lexer": "ipython3",
   "version": "3.9.12"
  },
  "vscode": {
   "interpreter": {
    "hash": "30d453d1063587679cb9ea756948dfdffb15ba9c7658ece4abaa6ce81067b233"
   }
  }
 },
 "nbformat": 4,
 "nbformat_minor": 5
}
