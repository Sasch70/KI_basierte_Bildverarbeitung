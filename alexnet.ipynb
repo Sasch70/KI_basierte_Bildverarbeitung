{
  "cells": [
    {
      "cell_type": "markdown",
      "metadata": {
        "id": "view-in-github",
        "colab_type": "text"
      },
      "source": [
        "<a href=\"https://colab.research.google.com/github/Sasch70/KI_basierte_Bildverarbeitung/blob/main/alexnet.ipynb\" target=\"_parent\"><img src=\"https://colab.research.google.com/assets/colab-badge.svg\" alt=\"Open In Colab\"/></a>"
      ]
    },
    {
      "cell_type": "code",
      "execution_count": null,
      "metadata": {
        "id": "QDKcW9JBldlQ"
      },
      "outputs": [],
      "source": [
        "import tensorflow as tf\n",
        "from tensorflow import keras\n",
        "from tensorflow.keras import layers\n",
        "import tensorflow_datasets as tfds\n",
        "import matplotlib.pyplot as plt\n",
        "import numpy as np\n",
        "import datetime"
      ]
    },
    {
      "cell_type": "code",
      "execution_count": null,
      "metadata": {
        "id": "7tbgWbXdldlS"
      },
      "outputs": [],
      "source": [
        "(ds_validate,ds_test,ds_train), ds_info = tfds.load(\n",
        "    'fashion_mnist',\n",
        "    split=['train[:10%]','train[10%:20%]','train[20%:]'],\n",
        "    shuffle_files=True,\n",
        "    as_supervised=True,\n",
        "    with_info=True,\n",
        "    data_dir=\"tensorflow_datasets\"\n",
        ")"
      ]
    },
    {
      "cell_type": "code",
      "execution_count": null,
      "metadata": {
        "id": "i2iZKzBrldlT"
      },
      "outputs": [],
      "source": [
        "batch_size=16\n",
        "\n",
        "# Konvertierung von uint8 Bild nach float32 Daten\n",
        "def normalize_and_resize_img(image, label):\n",
        "  \"\"\"Normalizes images: `uint8` -> `float32`.\"\"\"\n",
        "  resized_img = tf.image.resize(image, (224,224))\n",
        "  return resized_img, label\n",
        "  #return tf.cast(resized_img, tf.float32) / 255., label\n",
        "\n",
        "# Aufruf für alle Pixel\n",
        "ds_train = ds_train.map(\n",
        "    normalize_and_resize_img, num_parallel_calls=tf.data.AUTOTUNE)\n",
        "\n",
        "# Daten in Memory laden\n",
        "ds_train = ds_train.cache()\n",
        "# Daten shufflen in Memory \n",
        "ds_train = ds_train.shuffle(ds_info.splits['train'].num_examples)\n",
        "\n",
        "# Batches herstellen mit jeweils 128 Bildern\n",
        "ds_train = ds_train.batch(batch_size)\n",
        "# Vorhalten von Daten für bessere Performanz, Autotune=dynamischer Puffer\n",
        "ds_train = ds_train.prefetch(tf.data.AUTOTUNE)"
      ]
    },
    {
      "cell_type": "code",
      "execution_count": null,
      "metadata": {
        "id": "IKgT_KAOldlT"
      },
      "outputs": [],
      "source": [
        "# Normalisierung des validate Datensatzes\n",
        "ds_validate = ds_validate.map(\n",
        "    normalize_and_resize_img, num_parallel_calls=tf.data.AUTOTUNE)\n",
        "ds_validate = ds_validate.batch(batch_size)\n",
        "ds_validate = ds_validate.cache()\n",
        "ds_validate = ds_validate.prefetch(tf.data.AUTOTUNE)\n",
        "\n",
        "# Normalisierung des test Datensatzes\n",
        "ds_test = ds_test.map(\n",
        "    normalize_and_resize_img, num_parallel_calls=tf.data.AUTOTUNE)\n",
        "ds_test = ds_test.batch(batch_size)\n",
        "ds_test = ds_test.cache()\n",
        "ds_test = ds_test.prefetch(tf.data.AUTOTUNE)"
      ]
    },
    {
      "cell_type": "code",
      "execution_count": null,
      "metadata": {
        "id": "KkQdkCmIldlT"
      },
      "outputs": [],
      "source": [
        "#l=list(ds_train.as_numpy_iterator())\n",
        "#plt.imshow(l[0][0][5], cmap=\"gray\")\n",
        "#print(\"label:\",l[0][1][5])\n"
      ]
    },
    {
      "cell_type": "code",
      "execution_count": null,
      "metadata": {
        "colab": {
          "base_uri": "https://localhost:8080/"
        },
        "id": "Q_QTAu7MldlU",
        "outputId": "23d40ce1-53e7-40ca-9d65-bf3eb9020f5c"
      },
      "outputs": [
        {
          "output_type": "stream",
          "name": "stdout",
          "text": [
            "Model: \"sequential\"\n",
            "_________________________________________________________________\n",
            " Layer (type)                Output Shape              Param #   \n",
            "=================================================================\n",
            " conv2d (Conv2D)             (None, 54, 54, 96)        11712     \n",
            "                                                                 \n",
            " max_pooling2d (MaxPooling2D  (None, 26, 26, 96)       0         \n",
            " )                                                               \n",
            "                                                                 \n",
            " conv2d_1 (Conv2D)           (None, 26, 26, 256)       614656    \n",
            "                                                                 \n",
            " max_pooling2d_1 (MaxPooling  (None, 12, 12, 256)      0         \n",
            " 2D)                                                             \n",
            "                                                                 \n",
            " conv2d_2 (Conv2D)           (None, 12, 12, 384)       885120    \n",
            "                                                                 \n",
            " conv2d_3 (Conv2D)           (None, 12, 12, 384)       1327488   \n",
            "                                                                 \n",
            " conv2d_4 (Conv2D)           (None, 12, 12, 256)       884992    \n",
            "                                                                 \n",
            " max_pooling2d_2 (MaxPooling  (None, 5, 5, 256)        0         \n",
            " 2D)                                                             \n",
            "                                                                 \n",
            " flatten (Flatten)           (None, 6400)              0         \n",
            "                                                                 \n",
            " dense (Dense)               (None, 4096)              26218496  \n",
            "                                                                 \n",
            " dropout (Dropout)           (None, 4096)              0         \n",
            "                                                                 \n",
            " dense_1 (Dense)             (None, 4096)              16781312  \n",
            "                                                                 \n",
            " dropout_1 (Dropout)         (None, 4096)              0         \n",
            "                                                                 \n",
            " dense_2 (Dense)             (None, 10)                40970     \n",
            "                                                                 \n",
            "=================================================================\n",
            "Total params: 46,764,746\n",
            "Trainable params: 46,764,746\n",
            "Non-trainable params: 0\n",
            "_________________________________________________________________\n"
          ]
        }
      ],
      "source": [
        "from ctypes import resize\n",
        "\n",
        "\n",
        "num_classes = 10\n",
        "model = keras.Sequential(\n",
        "    [\n",
        "        tf.keras.layers.InputLayer([224,224,1]), # notwendig für summary()\n",
        "        tf.keras.layers.Conv2D(filters=96, kernel_size=11, strides=4, activation='relu'),\n",
        "        tf.keras.layers.MaxPool2D(pool_size=3, strides=2),\n",
        "        tf.keras.layers.Conv2D(filters=256, kernel_size=5, padding='same', activation='relu'),\n",
        "        tf.keras.layers.MaxPool2D(pool_size=3, strides=2),\n",
        "        tf.keras.layers.Conv2D(filters=384, kernel_size=3, padding='same', activation='relu'),\n",
        "        tf.keras.layers.Conv2D(filters=384, kernel_size=3, padding='same', activation='relu'),\n",
        "        tf.keras.layers.Conv2D(filters=256, kernel_size=3, padding='same', activation='relu'),\n",
        "        tf.keras.layers.MaxPool2D(pool_size=3, strides=2),\n",
        "        tf.keras.layers.Flatten(),\n",
        "        tf.keras.layers.Dense(4096, activation='relu'),\n",
        "        tf.keras.layers.Dropout(0.5),\n",
        "        tf.keras.layers.Dense(4096, activation='relu'),\n",
        "        tf.keras.layers.Dropout(0.5),\n",
        "        tf.keras.layers.Dense(num_classes)\n",
        "    ]\n",
        ")\n",
        "model.summary()\n",
        "\n"
      ]
    },
    {
      "cell_type": "code",
      "execution_count": null,
      "metadata": {
        "id": "gNZIp3MPldlU"
      },
      "outputs": [],
      "source": [
        "#input_shape = ds_info.features['image'].shape\n",
        "#input_shape\n",
        "#it = ds_train.as_numpy_iterator()\n",
        "#el=it.next()"
      ]
    },
    {
      "cell_type": "code",
      "execution_count": null,
      "metadata": {
        "colab": {
          "base_uri": "https://localhost:8080/"
        },
        "id": "Fj25h6DvldlU",
        "outputId": "faf2793b-0b4d-4f30-b4cb-38975b8da185"
      },
      "outputs": [
        {
          "output_type": "stream",
          "name": "stdout",
          "text": [
            "Epoch 1/5\n",
            "3000/3000 [==============================] - ETA: 0s - loss: 3.0370 - sparse_categorical_accuracy: 0.1013"
          ]
        }
      ],
      "source": [
        "# model kompilieren und Training starten\n",
        "from gc import callbacks\n",
        "\n",
        "max_epochs=5\n",
        "\n",
        "if model: # auf None prüfen\n",
        "    model.compile(\n",
        "        #optimizer=keras.optimizers.Adam(0.005),\n",
        "        optimizer=keras.optimizers.Adadelta(1.0),\n",
        "        loss=keras.losses.SparseCategoricalCrossentropy(from_logits=False),\n",
        "        metrics=[keras.metrics.SparseCategoricalAccuracy()],\n",
        "    )\n",
        "\n",
        "    # Callbacks für TensorBoard-Aufzeichnung\n",
        "    log_dir = \"./logs/fit/fashion_mnist_\" + datetime.datetime.now().strftime(\"%Y%m%d-%H%M%S\")\n",
        "    tensorboard_callback = keras.callbacks.TensorBoard(log_dir=log_dir, histogram_freq=1)\n",
        "\n",
        "    model.fit(\n",
        "        ds_train,\n",
        "        epochs=max_epochs,\n",
        "        validation_data=ds_validate,\n",
        "        callbacks=[tensorboard_callback]\n",
        "    )\n"
      ]
    }
  ],
  "metadata": {
    "kernelspec": {
      "display_name": "Python 3.9.12 ('tensorflow')",
      "language": "python",
      "name": "python3"
    },
    "language_info": {
      "codemirror_mode": {
        "name": "ipython",
        "version": 3
      },
      "file_extension": ".py",
      "mimetype": "text/x-python",
      "name": "python",
      "nbconvert_exporter": "python",
      "pygments_lexer": "ipython3",
      "version": "3.9.12"
    },
    "orig_nbformat": 4,
    "vscode": {
      "interpreter": {
        "hash": "30d453d1063587679cb9ea756948dfdffb15ba9c7658ece4abaa6ce81067b233"
      }
    },
    "colab": {
      "provenance": [],
      "include_colab_link": true
    },
    "accelerator": "GPU",
    "gpuClass": "standard"
  },
  "nbformat": 4,
  "nbformat_minor": 0
}